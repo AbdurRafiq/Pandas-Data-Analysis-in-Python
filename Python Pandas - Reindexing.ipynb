{
 "cells": [
  {
   "cell_type": "markdown",
   "metadata": {},
   "source": [
    "# Reindexing"
   ]
  },
  {
   "cell_type": "code",
   "execution_count": 6,
   "metadata": {},
   "outputs": [
    {
     "name": "stdout",
     "output_type": "stream",
     "text": [
      "            A    C   B\n",
      " 0.150856 NaT  NaN NaN\n",
      " 2.023592 NaT  NaN NaN\n",
      "-1.554873 NaT  NaN NaN\n",
      " 0.008593 NaT  NaN NaN\n",
      " 0.301889 NaT  NaN NaN\n",
      " 0.248489 NaT  NaN NaN\n",
      " 0.371176 NaT  NaN NaN\n",
      " 0.027949 NaT  NaN NaN\n",
      " 1.258140 NaT  NaN NaN\n",
      "-1.624533 NaT  NaN NaN\n",
      "-0.879190 NaT  NaN NaN\n",
      " 1.584154 NaT  NaN NaN\n",
      " 0.166340 NaT  NaN NaN\n",
      " 1.133013 NaT  NaN NaN\n",
      "-0.094070 NaT  NaN NaN\n",
      "-0.430249 NaT  NaN NaN\n",
      "-1.331001 NaT  NaN NaN\n",
      " 0.486538 NaT  NaN NaN\n",
      " 0.119382 NaT  NaN NaN\n",
      " 0.751848 NaT  NaN NaN\n",
      "-0.379210 NaT  NaN NaN\n",
      " 1.309455 NaT  NaN NaN\n",
      " 0.743274 NaT  NaN NaN\n",
      " 0.588787 NaT  NaN NaN\n",
      " 0.853277 NaT  NaN NaN\n",
      "-1.272263 NaT  NaN NaN\n",
      " 0.274619 NaT  NaN NaN\n",
      " 1.145982 NaT  NaN NaN\n",
      "-0.296713 NaT  NaN NaN\n",
      " 0.701367 NaT  NaN NaN\n"
     ]
    }
   ],
   "source": [
    "import pandas as pd\n",
    "import numpy as np\n",
    "\n",
    "N = 30\n",
    "\n",
    "df = pd.DataFrame({\n",
    "    'A':pd.date_range(start='2020-05-02',periods = N, freq = \"D\"),\n",
    "    'x':np.linspace(0,stop=N-1,num=N),\n",
    "    \"y\":np.random.rand(N),\n",
    "    \"C\":np.random.choice(['Low','Medium','High'],N).tolist(),\n",
    "    \"D\":np.random.normal(100, 10, size=(N)).tolist()\n",
    "    \n",
    "})\n",
    "\n",
    "\n",
    "#reindex the Data Frame\n",
    "\n",
    "# Create a new variable for new indexing\n",
    "\n",
    "df_new_index = df.reindex(index=[np.random.randn(30)],columns=[\"A\",\"C\",\"B\"])\n",
    "print(df_new_index)"
   ]
  },
  {
   "cell_type": "code",
   "execution_count": 7,
   "metadata": {},
   "outputs": [
    {
     "data": {
      "text/html": [
       "<div>\n",
       "<style scoped>\n",
       "    .dataframe tbody tr th:only-of-type {\n",
       "        vertical-align: middle;\n",
       "    }\n",
       "\n",
       "    .dataframe tbody tr th {\n",
       "        vertical-align: top;\n",
       "    }\n",
       "\n",
       "    .dataframe thead th {\n",
       "        text-align: right;\n",
       "    }\n",
       "</style>\n",
       "<table border=\"1\" class=\"dataframe\">\n",
       "  <thead>\n",
       "    <tr style=\"text-align: right;\">\n",
       "      <th></th>\n",
       "      <th>A</th>\n",
       "      <th>C</th>\n",
       "      <th>B</th>\n",
       "    </tr>\n",
       "  </thead>\n",
       "  <tbody>\n",
       "    <tr>\n",
       "      <th>0</th>\n",
       "      <td>2020-05-02</td>\n",
       "      <td>Medium</td>\n",
       "      <td>NaN</td>\n",
       "    </tr>\n",
       "    <tr>\n",
       "      <th>2</th>\n",
       "      <td>2020-05-04</td>\n",
       "      <td>Medium</td>\n",
       "      <td>NaN</td>\n",
       "    </tr>\n",
       "    <tr>\n",
       "      <th>5</th>\n",
       "      <td>2020-05-07</td>\n",
       "      <td>High</td>\n",
       "      <td>NaN</td>\n",
       "    </tr>\n",
       "  </tbody>\n",
       "</table>\n",
       "</div>"
      ],
      "text/plain": [
       "           A       C   B\n",
       "0 2020-05-02  Medium NaN\n",
       "2 2020-05-04  Medium NaN\n",
       "5 2020-05-07    High NaN"
      ]
     },
     "execution_count": 7,
     "metadata": {},
     "output_type": "execute_result"
    }
   ],
   "source": [
    "df_reindexed = df.reindex(index=[0,2,5], columns=['A', 'C', 'B'])\n",
    "\n",
    "df_reindexed "
   ]
  },
  {
   "cell_type": "markdown",
   "metadata": {},
   "source": [
    "# Filling while ReIndexing"
   ]
  },
  {
   "cell_type": "code",
   "execution_count": 10,
   "metadata": {},
   "outputs": [
    {
     "name": "stdout",
     "output_type": "stream",
     "text": [
      "Data Frame with Forward Fill:\n"
     ]
    },
    {
     "data": {
      "text/html": [
       "<div>\n",
       "<style scoped>\n",
       "    .dataframe tbody tr th:only-of-type {\n",
       "        vertical-align: middle;\n",
       "    }\n",
       "\n",
       "    .dataframe tbody tr th {\n",
       "        vertical-align: top;\n",
       "    }\n",
       "\n",
       "    .dataframe thead th {\n",
       "        text-align: right;\n",
       "    }\n",
       "</style>\n",
       "<table border=\"1\" class=\"dataframe\">\n",
       "  <thead>\n",
       "    <tr style=\"text-align: right;\">\n",
       "      <th></th>\n",
       "      <th>col1</th>\n",
       "      <th>col2</th>\n",
       "      <th>col3</th>\n",
       "    </tr>\n",
       "  </thead>\n",
       "  <tbody>\n",
       "    <tr>\n",
       "      <th>0</th>\n",
       "      <td>-1.322223</td>\n",
       "      <td>0.918733</td>\n",
       "      <td>-2.443435</td>\n",
       "    </tr>\n",
       "    <tr>\n",
       "      <th>1</th>\n",
       "      <td>-0.173702</td>\n",
       "      <td>-0.302239</td>\n",
       "      <td>0.615711</td>\n",
       "    </tr>\n",
       "    <tr>\n",
       "      <th>2</th>\n",
       "      <td>-0.173702</td>\n",
       "      <td>-0.302239</td>\n",
       "      <td>0.615711</td>\n",
       "    </tr>\n",
       "    <tr>\n",
       "      <th>3</th>\n",
       "      <td>-0.173702</td>\n",
       "      <td>-0.302239</td>\n",
       "      <td>0.615711</td>\n",
       "    </tr>\n",
       "    <tr>\n",
       "      <th>4</th>\n",
       "      <td>-0.173702</td>\n",
       "      <td>-0.302239</td>\n",
       "      <td>0.615711</td>\n",
       "    </tr>\n",
       "    <tr>\n",
       "      <th>5</th>\n",
       "      <td>-0.173702</td>\n",
       "      <td>-0.302239</td>\n",
       "      <td>0.615711</td>\n",
       "    </tr>\n",
       "  </tbody>\n",
       "</table>\n",
       "</div>"
      ],
      "text/plain": [
       "       col1      col2      col3\n",
       "0 -1.322223  0.918733 -2.443435\n",
       "1 -0.173702 -0.302239  0.615711\n",
       "2 -0.173702 -0.302239  0.615711\n",
       "3 -0.173702 -0.302239  0.615711\n",
       "4 -0.173702 -0.302239  0.615711\n",
       "5 -0.173702 -0.302239  0.615711"
      ]
     },
     "execution_count": 10,
     "metadata": {},
     "output_type": "execute_result"
    }
   ],
   "source": [
    "\n",
    "import pandas as pd\n",
    "import numpy as np\n",
    "\n",
    "df1 = pd.DataFrame(np.random.randn(6,3),columns=['col1','col2','col3'])\n",
    "df2 = pd.DataFrame(np.random.randn(2,3),columns=['col1','col2','col3'])\n",
    "\n",
    "# Padding NAN's\n",
    "df2.reindex_like(df1)\n",
    "\n",
    "# Now Fill the NAN's with preceding Values\n",
    "print (\"Data Frame with Forward Fill:\")\n",
    "df2.reindex_like(df1,method='ffill')"
   ]
  },
  {
   "cell_type": "markdown",
   "metadata": {},
   "source": [
    "# Renaming"
   ]
  },
  {
   "cell_type": "code",
   "execution_count": 13,
   "metadata": {},
   "outputs": [
    {
     "name": "stdout",
     "output_type": "stream",
     "text": [
      "After renaming the rows and columns:\n"
     ]
    },
    {
     "data": {
      "text/html": [
       "<div>\n",
       "<style scoped>\n",
       "    .dataframe tbody tr th:only-of-type {\n",
       "        vertical-align: middle;\n",
       "    }\n",
       "\n",
       "    .dataframe tbody tr th {\n",
       "        vertical-align: top;\n",
       "    }\n",
       "\n",
       "    .dataframe thead th {\n",
       "        text-align: right;\n",
       "    }\n",
       "</style>\n",
       "<table border=\"1\" class=\"dataframe\">\n",
       "  <thead>\n",
       "    <tr style=\"text-align: right;\">\n",
       "      <th></th>\n",
       "      <th>c1</th>\n",
       "      <th>c2</th>\n",
       "      <th>col3</th>\n",
       "    </tr>\n",
       "  </thead>\n",
       "  <tbody>\n",
       "    <tr>\n",
       "      <th>apple</th>\n",
       "      <td>0.205858</td>\n",
       "      <td>0.203448</td>\n",
       "      <td>1.197653</td>\n",
       "    </tr>\n",
       "    <tr>\n",
       "      <th>banana</th>\n",
       "      <td>-0.737341</td>\n",
       "      <td>-1.341450</td>\n",
       "      <td>-1.037216</td>\n",
       "    </tr>\n",
       "    <tr>\n",
       "      <th>durian</th>\n",
       "      <td>-0.461641</td>\n",
       "      <td>1.546420</td>\n",
       "      <td>0.468109</td>\n",
       "    </tr>\n",
       "    <tr>\n",
       "      <th>3</th>\n",
       "      <td>-1.023668</td>\n",
       "      <td>1.005104</td>\n",
       "      <td>0.767453</td>\n",
       "    </tr>\n",
       "    <tr>\n",
       "      <th>4</th>\n",
       "      <td>-0.799783</td>\n",
       "      <td>-0.425049</td>\n",
       "      <td>-0.793039</td>\n",
       "    </tr>\n",
       "    <tr>\n",
       "      <th>5</th>\n",
       "      <td>0.206658</td>\n",
       "      <td>-0.267084</td>\n",
       "      <td>0.937534</td>\n",
       "    </tr>\n",
       "  </tbody>\n",
       "</table>\n",
       "</div>"
      ],
      "text/plain": [
       "              c1        c2      col3\n",
       "apple   0.205858  0.203448  1.197653\n",
       "banana -0.737341 -1.341450 -1.037216\n",
       "durian -0.461641  1.546420  0.468109\n",
       "3      -1.023668  1.005104  0.767453\n",
       "4      -0.799783 -0.425049 -0.793039\n",
       "5       0.206658 -0.267084  0.937534"
      ]
     },
     "execution_count": 13,
     "metadata": {},
     "output_type": "execute_result"
    }
   ],
   "source": [
    "\n",
    "import pandas as pd\n",
    "import numpy as np\n",
    "\n",
    "df1 = pd.DataFrame(np.random.randn(6,3),columns=['col1','col2','col3'])\n",
    "df1\n",
    "\n",
    "print (\"After renaming the rows and columns:\")\n",
    "df1.rename(columns={'col1' : 'c1', 'col2' : 'c2'},\n",
    "index = {0 : 'apple', 1 : 'banana', 2 : 'durian'})"
   ]
  },
  {
   "cell_type": "code",
   "execution_count": null,
   "metadata": {},
   "outputs": [],
   "source": []
  },
  {
   "cell_type": "code",
   "execution_count": null,
   "metadata": {},
   "outputs": [],
   "source": []
  },
  {
   "cell_type": "code",
   "execution_count": null,
   "metadata": {},
   "outputs": [],
   "source": []
  },
  {
   "cell_type": "code",
   "execution_count": null,
   "metadata": {},
   "outputs": [],
   "source": []
  }
 ],
 "metadata": {
  "kernelspec": {
   "display_name": "Python 3",
   "language": "python",
   "name": "python3"
  },
  "language_info": {
   "codemirror_mode": {
    "name": "ipython",
    "version": 3
   },
   "file_extension": ".py",
   "mimetype": "text/x-python",
   "name": "python",
   "nbconvert_exporter": "python",
   "pygments_lexer": "ipython3",
   "version": "3.6.5"
  }
 },
 "nbformat": 4,
 "nbformat_minor": 2
}
