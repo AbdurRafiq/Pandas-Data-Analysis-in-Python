{
 "cells": [
  {
   "cell_type": "markdown",
   "metadata": {},
   "source": [
    "# Series Basic Functionality"
   ]
  },
  {
   "cell_type": "code",
   "execution_count": 2,
   "metadata": {},
   "outputs": [
    {
     "name": "stdout",
     "output_type": "stream",
     "text": [
      "0     -1.114270\n",
      "1     -1.062762\n",
      "2      1.813491\n",
      "3      0.180895\n",
      "4     -0.058488\n",
      "5     -0.582182\n",
      "6      1.387489\n",
      "7      1.137987\n",
      "8      0.378657\n",
      "9      0.138787\n",
      "10    -0.777490\n",
      "11     1.322202\n",
      "12     1.346169\n",
      "13    -0.168897\n",
      "14     1.233109\n",
      "15     0.213178\n",
      "16    -1.632239\n",
      "17     1.420816\n",
      "18    -1.707813\n",
      "19    -1.029384\n",
      "20     0.155092\n",
      "21    -0.028890\n",
      "22    -0.580622\n",
      "23     0.429751\n",
      "24    -1.297159\n",
      "25    -1.028472\n",
      "26     1.171588\n",
      "27     1.284149\n",
      "28     0.289649\n",
      "29     0.220593\n",
      "         ...   \n",
      "170   -0.078816\n",
      "171    1.264125\n",
      "172    1.158842\n",
      "173   -0.992804\n",
      "174    0.228851\n",
      "175   -0.602694\n",
      "176    0.070856\n",
      "177    0.019573\n",
      "178    0.518206\n",
      "179   -0.048056\n",
      "180    0.263315\n",
      "181   -0.738239\n",
      "182   -0.422039\n",
      "183    1.807662\n",
      "184    0.051970\n",
      "185    0.032779\n",
      "186   -0.734074\n",
      "187   -1.580544\n",
      "188   -0.314013\n",
      "189    0.961893\n",
      "190    1.127720\n",
      "191    0.437303\n",
      "192    0.954382\n",
      "193   -1.651834\n",
      "194   -0.771303\n",
      "195    0.997766\n",
      "196    0.132890\n",
      "197    1.237249\n",
      "198    0.541155\n",
      "199    0.732468\n",
      "Length: 200, dtype: float64\n"
     ]
    }
   ],
   "source": [
    "import pandas as pd #here i write this code every time for the better practice but we can declare onecs in raal project\n",
    "import numpy as np#here i write this code every time for the better practice but we can declare onecs in raal project\n",
    "\n",
    "# Create Series with 200 random number\n",
    "\n",
    "d = pd.Series(np.random.randn(200))\n",
    "\n",
    "print(d)"
   ]
  },
  {
   "cell_type": "markdown",
   "metadata": {},
   "source": [
    "# Axes"
   ]
  },
  {
   "cell_type": "code",
   "execution_count": 6,
   "metadata": {},
   "outputs": [
    {
     "name": "stdout",
     "output_type": "stream",
     "text": [
      "The Axes are:\n",
      "[RangeIndex(start=0, stop=200, step=1)]\n"
     ]
    }
   ],
   "source": [
    "import numpy as np\n",
    "import pandas as pd\n",
    "\n",
    "#Creating a Series with 200 random number\n",
    "\n",
    "random_number = pd.Series(np.random.randn(200))\n",
    "print(\"The Axes are:\")\n",
    "print(random_number.axes)"
   ]
  },
  {
   "cell_type": "markdown",
   "metadata": {},
   "source": [
    "# Empty \n",
    "#WIll returns the Boolean value saying whether the object is empty or not\n"
   ]
  },
  {
   "cell_type": "code",
   "execution_count": 7,
   "metadata": {},
   "outputs": [
    {
     "name": "stdout",
     "output_type": "stream",
     "text": [
      "IS the Object enmty??\n",
      "False\n"
     ]
    }
   ],
   "source": [
    "import numpy as np\n",
    "import pandas as pd\n",
    "#$Creating a Series with 200 random value\n",
    "\n",
    "random = pd.Series(np.random.randn(200))\n",
    "\n",
    "print(\"IS the Object enmty??\")\n",
    "\n",
    "print(random.empty)"
   ]
  },
  {
   "cell_type": "code",
   "execution_count": 10,
   "metadata": {},
   "outputs": [
    {
     "name": "stdout",
     "output_type": "stream",
     "text": [
      "IS the Object enmty??\n",
      "True\n"
     ]
    }
   ],
   "source": [
    "# Is empty is returns true\n",
    "import numpy as np\n",
    "data = np.array([])\n",
    "\n",
    "s = pd.Series(data)\n",
    "print(\"IS the Object enmty??\")\n",
    "\n",
    "print(s.empty)"
   ]
  },
  {
   "cell_type": "markdown",
   "metadata": {},
   "source": [
    "# ndim"
   ]
  },
  {
   "cell_type": "code",
   "execution_count": null,
   "metadata": {},
   "outputs": [],
   "source": [
    "# It will returns the number of dimensions of the object."
   ]
  },
  {
   "cell_type": "code",
   "execution_count": 13,
   "metadata": {},
   "outputs": [
    {
     "name": "stdout",
     "output_type": "stream",
     "text": [
      "0    0.097600\n",
      "1   -1.057050\n",
      "2   -0.074914\n",
      "3    0.481547\n",
      "4   -0.639689\n",
      "5    0.842355\n",
      "6    0.718823\n",
      "7    0.293326\n",
      "8   -0.033743\n",
      "9   -1.304504\n",
      "dtype: float64\n",
      "The dimention of the object: \n",
      "1\n"
     ]
    }
   ],
   "source": [
    "import pandas as pd\n",
    "import numpy as np\n",
    "\n",
    "#Create a Series with 10 random value\n",
    "Series = pd.Series(np.random.randn(10))\n",
    "\n",
    "print(Series)\n",
    "\n",
    "print(\"The dimention of the object: \")\n",
    "print(Series.ndim)"
   ]
  },
  {
   "cell_type": "code",
   "execution_count": 19,
   "metadata": {},
   "outputs": [
    {
     "name": "stdout",
     "output_type": "stream",
     "text": [
      "   one  two\n",
      "a    1    1\n",
      "b    2    2\n",
      "c    3    3\n",
      "The dimensions of the object:\n",
      "2\n"
     ]
    }
   ],
   "source": [
    "# For 2 Dimension \n",
    "\n",
    "Series={\"one\":pd.Series([1,2,3],index=[\"a\",\"b\",\"c\"]),\n",
    "       \"two\":pd.Series([1,2,3],index=[\"a\",\"b\",\"c\"])}\n",
    "df = pd.DataFrame(Series)\n",
    "print(df)\n",
    "print (\"The dimensions of the object:\")\n",
    "print(df.ndim)"
   ]
  },
  {
   "cell_type": "code",
   "execution_count": null,
   "metadata": {},
   "outputs": [],
   "source": [
    "#Example 2D\n"
   ]
  },
  {
   "cell_type": "code",
   "execution_count": 23,
   "metadata": {},
   "outputs": [
    {
     "name": "stdout",
     "output_type": "stream",
     "text": [
      "        one       two\n",
      "a  0.214088  0.559303\n",
      "b -0.335691 -0.086670\n",
      "c  0.049170 -1.124428\n",
      "d -0.328126  1.083902\n",
      "The dimensions of the object:\n",
      "2\n"
     ]
    }
   ],
   "source": [
    "Series = {\"one\":pd.Series(np.random.randn(4),index=[\"a\",\"b\",\"c\",\"d\"]),\n",
    "          \"two\":pd.Series(np.random.randn(4),index=[\"a\",\"b\",\"c\",\"d\"])}\n",
    "\n",
    "df = pd.DataFrame(Series)\n",
    "          \n",
    "print(df    )      \n",
    "print (\"The dimensions of the object:\")\n",
    "print(df.ndim)"
   ]
  },
  {
   "cell_type": "markdown",
   "metadata": {},
   "source": [
    "# Size"
   ]
  },
  {
   "cell_type": "code",
   "execution_count": 26,
   "metadata": {},
   "outputs": [
    {
     "name": "stdout",
     "output_type": "stream",
     "text": [
      "0    1.202933\n",
      "1   -1.423975\n",
      "2   -0.922382\n",
      "3   -0.600596\n",
      "4    0.658602\n",
      "5   -0.143898\n",
      "6   -0.390910\n",
      "7    0.796026\n",
      "8   -1.260093\n",
      "9   -1.560156\n",
      "dtype: float64\n",
      "The size of the object: \n",
      "10\n"
     ]
    }
   ],
   "source": [
    "import pandas as pd\n",
    "import numpy as np\n",
    "\n",
    "#Create a series with 10 random values\n",
    "\n",
    "s = pd.Series(np.random.randn(10))\n",
    "\n",
    "print(s)\n",
    "print(\"The size of the object: \")\n",
    "print(s.size)"
   ]
  },
  {
   "cell_type": "markdown",
   "metadata": {},
   "source": [
    "# Values\n",
    "\n"
   ]
  },
  {
   "cell_type": "code",
   "execution_count": 29,
   "metadata": {},
   "outputs": [
    {
     "name": "stdout",
     "output_type": "stream",
     "text": [
      "0   -1.793852\n",
      "1   -0.736058\n",
      "2   -0.629967\n",
      "3    1.097746\n",
      "4    0.053872\n",
      "5    0.466721\n",
      "6   -0.720191\n",
      "7    1.069444\n",
      "8    1.651030\n",
      "9   -0.619036\n",
      "dtype: float64\n",
      "The actual data Seriers is: \n",
      "[-1.79385196 -0.73605777 -0.62996697  1.09774589  0.05387223  0.46672085\n",
      " -0.7201914   1.06944399  1.65103028 -0.61903647]\n"
     ]
    }
   ],
   "source": [
    "import pandas as pd\n",
    "import numpy as np\n",
    "\n",
    "# Create a Series eith 10 random value\n",
    "\n",
    "ss = pd.Series(np.random.randn(10))\n",
    "\n",
    "print(ss)\n",
    "\n",
    "print(\"The actual data Seriers is: \")\n",
    "\n",
    "print(ss.values)"
   ]
  },
  {
   "cell_type": "markdown",
   "metadata": {},
   "source": [
    "# Head & Tail"
   ]
  },
  {
   "cell_type": "code",
   "execution_count": 31,
   "metadata": {},
   "outputs": [
    {
     "name": "stdout",
     "output_type": "stream",
     "text": [
      "The original series is:\n",
      "0    0.588567\n",
      "1   -0.228040\n",
      "2   -0.419892\n",
      "3    0.609202\n",
      "dtype: float64\n",
      "The first two rows of the data series:\n",
      "0    0.588567\n",
      "1   -0.228040\n",
      "dtype: float64\n"
     ]
    }
   ],
   "source": [
    "import pandas as pd\n",
    "import numpy as np\n",
    "\n",
    "#Create a series with 4 random numbers\n",
    "s = pd.Series(np.random.randn(4))\n",
    "print (\"The original series is:\")\n",
    "print(s)\n",
    "\n",
    "print (\"The first two rows of the data series:\")\n",
    "print(s.head(2))"
   ]
  },
  {
   "cell_type": "markdown",
   "metadata": {},
   "source": [
    "# Tail()"
   ]
  },
  {
   "cell_type": "code",
   "execution_count": 32,
   "metadata": {},
   "outputs": [
    {
     "name": "stdout",
     "output_type": "stream",
     "text": [
      "The last two rows of the data series:\n",
      "2   -0.419892\n",
      "3    0.609202\n",
      "dtype: float64\n"
     ]
    }
   ],
   "source": [
    "\n",
    "print (\"The last two rows of the data series:\")\n",
    "print (s.tail(2))"
   ]
  },
  {
   "cell_type": "markdown",
   "metadata": {},
   "source": [
    "# DataFrame Basic Functionality"
   ]
  },
  {
   "cell_type": "code",
   "execution_count": 33,
   "metadata": {},
   "outputs": [
    {
     "name": "stdout",
     "output_type": "stream",
     "text": [
      "Our data Series is :\n",
      "    Name  Age  Rating\n",
      "0    Tom   25    4.23\n",
      "1  James   26    3.24\n",
      "2  Ricky   25    3.98\n",
      "3    Vin   23    2.56\n",
      "4  Steve   30    3.20\n",
      "5  Smith   29    4.60\n",
      "6   Jack   23    3.80\n"
     ]
    }
   ],
   "source": [
    "import pandas as pd\n",
    "import numpy as np \n",
    "\n",
    "#Create a dictionary of Series\n",
    "d = {\"Name\":pd.Series(['Tom','James','Ricky','Vin','Steve','Smith','Jack']),\n",
    "    \"Age\":pd.Series([25,26,25,23,30,29,23]),\n",
    "    \"Rating\":pd.Series([4.23,3.24,3.98,2.56,3.20,4.6,3.8])}\n",
    "\n",
    "#Create a dataframe\n",
    "df = pd.DataFrame(d)\n",
    "\n",
    "print(\"Our data Series is :\")\n",
    "\n",
    "print(df)\n"
   ]
  },
  {
   "cell_type": "markdown",
   "metadata": {},
   "source": [
    "# T (Transpose)\n",
    "Returns the transpose of the DataFrame. The rows and columns will interchange."
   ]
  },
  {
   "cell_type": "code",
   "execution_count": 34,
   "metadata": {},
   "outputs": [
    {
     "name": "stdout",
     "output_type": "stream",
     "text": [
      "           0      1      2     3      4      5     6\n",
      "Name     Tom  James  Ricky   Vin  Steve  Smith  Jack\n",
      "Age       25     26     25    23     30     29    23\n",
      "Rating  4.23   3.24   3.98  2.56    3.2    4.6   3.8\n"
     ]
    }
   ],
   "source": [
    "print(df.T)"
   ]
  },
  {
   "cell_type": "code",
   "execution_count": 36,
   "metadata": {},
   "outputs": [
    {
     "data": {
      "text/html": [
       "<div>\n",
       "<style scoped>\n",
       "    .dataframe tbody tr th:only-of-type {\n",
       "        vertical-align: middle;\n",
       "    }\n",
       "\n",
       "    .dataframe tbody tr th {\n",
       "        vertical-align: top;\n",
       "    }\n",
       "\n",
       "    .dataframe thead th {\n",
       "        text-align: right;\n",
       "    }\n",
       "</style>\n",
       "<table border=\"1\" class=\"dataframe\">\n",
       "  <thead>\n",
       "    <tr style=\"text-align: right;\">\n",
       "      <th></th>\n",
       "      <th>Name</th>\n",
       "      <th>Age</th>\n",
       "      <th>Rating</th>\n",
       "    </tr>\n",
       "  </thead>\n",
       "  <tbody>\n",
       "    <tr>\n",
       "      <th>0</th>\n",
       "      <td>Tom</td>\n",
       "      <td>25</td>\n",
       "      <td>4.23</td>\n",
       "    </tr>\n",
       "    <tr>\n",
       "      <th>1</th>\n",
       "      <td>James</td>\n",
       "      <td>26</td>\n",
       "      <td>3.24</td>\n",
       "    </tr>\n",
       "    <tr>\n",
       "      <th>2</th>\n",
       "      <td>Ricky</td>\n",
       "      <td>25</td>\n",
       "      <td>3.98</td>\n",
       "    </tr>\n",
       "    <tr>\n",
       "      <th>3</th>\n",
       "      <td>Vin</td>\n",
       "      <td>23</td>\n",
       "      <td>2.56</td>\n",
       "    </tr>\n",
       "    <tr>\n",
       "      <th>4</th>\n",
       "      <td>Steve</td>\n",
       "      <td>30</td>\n",
       "      <td>3.20</td>\n",
       "    </tr>\n",
       "  </tbody>\n",
       "</table>\n",
       "</div>"
      ],
      "text/plain": [
       "    Name  Age  Rating\n",
       "0    Tom   25    4.23\n",
       "1  James   26    3.24\n",
       "2  Ricky   25    3.98\n",
       "3    Vin   23    2.56\n",
       "4  Steve   30    3.20"
      ]
     },
     "execution_count": 36,
     "metadata": {},
     "output_type": "execute_result"
    }
   ],
   "source": [
    "df.head()"
   ]
  },
  {
   "cell_type": "code",
   "execution_count": 37,
   "metadata": {},
   "outputs": [
    {
     "data": {
      "text/html": [
       "<div>\n",
       "<style scoped>\n",
       "    .dataframe tbody tr th:only-of-type {\n",
       "        vertical-align: middle;\n",
       "    }\n",
       "\n",
       "    .dataframe tbody tr th {\n",
       "        vertical-align: top;\n",
       "    }\n",
       "\n",
       "    .dataframe thead th {\n",
       "        text-align: right;\n",
       "    }\n",
       "</style>\n",
       "<table border=\"1\" class=\"dataframe\">\n",
       "  <thead>\n",
       "    <tr style=\"text-align: right;\">\n",
       "      <th></th>\n",
       "      <th>Age</th>\n",
       "      <th>Rating</th>\n",
       "    </tr>\n",
       "  </thead>\n",
       "  <tbody>\n",
       "    <tr>\n",
       "      <th>count</th>\n",
       "      <td>7.000000</td>\n",
       "      <td>7.000000</td>\n",
       "    </tr>\n",
       "    <tr>\n",
       "      <th>mean</th>\n",
       "      <td>25.857143</td>\n",
       "      <td>3.658571</td>\n",
       "    </tr>\n",
       "    <tr>\n",
       "      <th>std</th>\n",
       "      <td>2.734262</td>\n",
       "      <td>0.698628</td>\n",
       "    </tr>\n",
       "    <tr>\n",
       "      <th>min</th>\n",
       "      <td>23.000000</td>\n",
       "      <td>2.560000</td>\n",
       "    </tr>\n",
       "    <tr>\n",
       "      <th>25%</th>\n",
       "      <td>24.000000</td>\n",
       "      <td>3.220000</td>\n",
       "    </tr>\n",
       "    <tr>\n",
       "      <th>50%</th>\n",
       "      <td>25.000000</td>\n",
       "      <td>3.800000</td>\n",
       "    </tr>\n",
       "    <tr>\n",
       "      <th>75%</th>\n",
       "      <td>27.500000</td>\n",
       "      <td>4.105000</td>\n",
       "    </tr>\n",
       "    <tr>\n",
       "      <th>max</th>\n",
       "      <td>30.000000</td>\n",
       "      <td>4.600000</td>\n",
       "    </tr>\n",
       "  </tbody>\n",
       "</table>\n",
       "</div>"
      ],
      "text/plain": [
       "             Age    Rating\n",
       "count   7.000000  7.000000\n",
       "mean   25.857143  3.658571\n",
       "std     2.734262  0.698628\n",
       "min    23.000000  2.560000\n",
       "25%    24.000000  3.220000\n",
       "50%    25.000000  3.800000\n",
       "75%    27.500000  4.105000\n",
       "max    30.000000  4.600000"
      ]
     },
     "execution_count": 37,
     "metadata": {},
     "output_type": "execute_result"
    }
   ],
   "source": [
    "df.describe()"
   ]
  },
  {
   "cell_type": "markdown",
   "metadata": {},
   "source": [
    "# Axes"
   ]
  },
  {
   "cell_type": "code",
   "execution_count": 38,
   "metadata": {},
   "outputs": [
    {
     "name": "stdout",
     "output_type": "stream",
     "text": [
      "[RangeIndex(start=0, stop=7, step=1), Index(['Name', 'Age', 'Rating'], dtype='object')]\n"
     ]
    }
   ],
   "source": [
    "print(df.axes)"
   ]
  },
  {
   "cell_type": "markdown",
   "metadata": {},
   "source": [
    "# Dtypes"
   ]
  },
  {
   "cell_type": "code",
   "execution_count": 40,
   "metadata": {},
   "outputs": [
    {
     "data": {
      "text/plain": [
       "Name       object\n",
       "Age         int64\n",
       "Rating    float64\n",
       "dtype: object"
      ]
     },
     "execution_count": 40,
     "metadata": {},
     "output_type": "execute_result"
    }
   ],
   "source": [
    "df.dtypes"
   ]
  },
  {
   "cell_type": "markdown",
   "metadata": {},
   "source": [
    "# Empty"
   ]
  },
  {
   "cell_type": "code",
   "execution_count": 45,
   "metadata": {},
   "outputs": [
    {
     "data": {
      "text/plain": [
       "False"
      ]
     },
     "execution_count": 45,
     "metadata": {},
     "output_type": "execute_result"
    }
   ],
   "source": [
    "df.empty"
   ]
  },
  {
   "cell_type": "markdown",
   "metadata": {},
   "source": [
    "# Shape"
   ]
  },
  {
   "cell_type": "code",
   "execution_count": 47,
   "metadata": {},
   "outputs": [
    {
     "data": {
      "text/plain": [
       "(7, 3)"
      ]
     },
     "execution_count": 47,
     "metadata": {},
     "output_type": "execute_result"
    }
   ],
   "source": [
    "df.shape"
   ]
  },
  {
   "cell_type": "markdown",
   "metadata": {},
   "source": [
    "# Size"
   ]
  },
  {
   "cell_type": "code",
   "execution_count": 48,
   "metadata": {},
   "outputs": [
    {
     "data": {
      "text/plain": [
       "21"
      ]
     },
     "execution_count": 48,
     "metadata": {},
     "output_type": "execute_result"
    }
   ],
   "source": [
    "df.size"
   ]
  },
  {
   "cell_type": "markdown",
   "metadata": {},
   "source": [
    "# values"
   ]
  },
  {
   "cell_type": "code",
   "execution_count": 49,
   "metadata": {},
   "outputs": [
    {
     "data": {
      "text/plain": [
       "array([['Tom', 25, 4.23],\n",
       "       ['James', 26, 3.24],\n",
       "       ['Ricky', 25, 3.98],\n",
       "       ['Vin', 23, 2.56],\n",
       "       ['Steve', 30, 3.2],\n",
       "       ['Smith', 29, 4.6],\n",
       "       ['Jack', 23, 3.8]], dtype=object)"
      ]
     },
     "execution_count": 49,
     "metadata": {},
     "output_type": "execute_result"
    }
   ],
   "source": [
    "df.values"
   ]
  },
  {
   "cell_type": "code",
   "execution_count": null,
   "metadata": {},
   "outputs": [],
   "source": []
  },
  {
   "cell_type": "code",
   "execution_count": null,
   "metadata": {},
   "outputs": [],
   "source": []
  },
  {
   "cell_type": "code",
   "execution_count": null,
   "metadata": {},
   "outputs": [],
   "source": []
  }
 ],
 "metadata": {
  "kernelspec": {
   "display_name": "Python 3",
   "language": "python",
   "name": "python3"
  },
  "language_info": {
   "codemirror_mode": {
    "name": "ipython",
    "version": 3
   },
   "file_extension": ".py",
   "mimetype": "text/x-python",
   "name": "python",
   "nbconvert_exporter": "python",
   "pygments_lexer": "ipython3",
   "version": "3.6.5"
  }
 },
 "nbformat": 4,
 "nbformat_minor": 2
}
